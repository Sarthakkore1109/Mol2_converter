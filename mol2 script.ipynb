{
 "cells": [
  {
   "cell_type": "code",
   "execution_count": 1,
   "id": "644af6ce",
   "metadata": {},
   "outputs": [
    {
     "name": "stderr",
     "output_type": "stream",
     "text": [
      "C:\\Users\\ACER\\anaconda3\\lib\\openbabel\\__init__.py:14: UserWarning: \"import openbabel\" is deprecated, instead use \"from openbabel import openbabel\"\n",
      "  warnings.warn('\"import openbabel\" is deprecated, instead use \"from openbabel import openbabel\"')\n"
     ]
    }
   ],
   "source": [
    "import argparse\n",
    "import sys\n",
    "from cinfony import pybel\n",
    "import os\n",
    "\n"
   ]
  },
  {
   "cell_type": "code",
   "execution_count": 2,
   "id": "31d49adb",
   "metadata": {},
   "outputs": [],
   "source": [
    "def usage():\n",
    "   print( 'This script get coordinates from docked ligand pdbqt file and after renumbering pick it to original mol2 file. This get mol2 file with connectivity and properly added hydrogens')\n",
    "   print ('Usage: convert_to_mol2')\n",
    "   print ('-i original mol2 file' )\n",
    "   print ('-p undocked pdbqt file')\n",
    "   print ('-r docked pdbqt file')\n",
    "   print ('-o output mol2 file')\n",
    "   print ('-h Print this help')"
   ]
  },
  {
   "cell_type": "code",
   "execution_count": 3,
   "id": "50ab4b72",
   "metadata": {},
   "outputs": [],
   "source": [
    "def get_coord_dict(format, inputmol):\n",
    "   molH = next(pybel.readfile(format, inputmol))\n",
    "   molH.OBMol.DeleteHydrogens()\n",
    "   return {atom.idx: atom.coords for atom in molH}"
   ]
  },
  {
   "cell_type": "markdown",
   "id": "e48c87f2",
   "metadata": {},
   "source": [
    "with open(undocked_pdbqt_mol) as f:\n",
    "    for line in iter(lambda: f.readline().rstrip(), 'ENDROOT'):\n",
    "        with open(\"TempFile.pdbqt\", \"a\") as output:\n",
    "            output.writelines(line)\n",
    "            output.writelines('\\n')\n",
    "        print(line)\n",
    "        \n",
    "with open(\"TempFile.pdbqt\", \"a\") as output:\n",
    "            output.writelines('ENDROOT')\n",
    "            output.writelines('\\n')\n"
   ]
  },
  {
   "cell_type": "code",
   "execution_count": 5,
   "id": "103b364d",
   "metadata": {},
   "outputs": [
    {
     "name": "stdout",
     "output_type": "stream",
     "text": [
      "REMARK  10 active torsions:\n",
      "REMARK  status: ('A' for Active; 'I' for Inactive)\n",
      "REMARK    1  A    between atoms: O1_3  and  C2_11\n",
      "REMARK    2  A    between atoms: O2_4  and  C9_18\n",
      "REMARK    3  A    between atoms: O2_4  and  C14_23\n",
      "REMARK    4  A    between atoms: O4_6  and  C12_21\n",
      "REMARK    5  A    between atoms: N1_7  and  C6_15\n",
      "REMARK    6  A    between atoms: N2_8  and  C1_10\n",
      "REMARK       I    between atoms: N2_8  and  C8_17\n",
      "REMARK    7  A    between atoms: N3_9  and  C17_26\n",
      "REMARK    8  A    between atoms: C6_15  and  C7_16\n",
      "REMARK    9  A    between atoms: C7_16  and  C9_18\n",
      "REMARK   10  A    between atoms: C8_17  and  C11_20\n",
      "ROOT\n",
      "ATOM      1  N1  non d   1       8.415   0.624   0.000  0.00  0.00    -0.068 N\n",
      "ATOM      2  C1  non d   1       8.415  -2.456   0.000  0.00  0.00     0.116 A\n",
      "ATOM      3  C2  non d   1       7.081  -1.686   0.000  0.00  0.00     0.169 A\n",
      "ATOM      4  C3  non d   1       9.749  -1.686   0.000  0.00  0.00     0.055 A\n",
      "ATOM      5  C4  non d   1       7.081  -0.146   0.000  0.00  0.00     0.268 A\n",
      "ATOM      6  C5  non d   1       9.749  -0.146   0.000  0.00  0.00     0.237 A\n",
      "ATOM      7  H1  non d   1       9.692   1.485   0.000  0.00  0.00     0.280 HD\n",
      "Successfully wrote the file\n",
      "C:/Users/ACER/Desktop/protein_data/org_Cisapride .pdbqt\n"
     ]
    }
   ],
   "source": [
    "docked_pdbqt_mol = undocked_pdbqt_mol = \"C:/Users/ACER/Desktop/protein_data/org_Cisapride .pdbqt\"\n",
    "output_mol2 = \"C:/Users/ACER/Desktop/protein_data//output.mol2\"\n",
    "\n",
    "#docked_pdbqt_mol = \"C:/Users/ACER/Desktop/protein_data/org_Cisapride .pdbqt\"\n",
    "#original_mol2_mol = \"C:/Users/ACER/PycharmProjects/pdbqt-to-mol2/protein.mol2\"\n",
    "#docked_pdbqt = get_coord_dict('pdbqt', docked_pdbqt_mol)\n",
    "#original_mol2 = get_coord_dict('mol2', original_mol2_mol)\n",
    "#docked_pdbqt = undocked_pdbqt = get_coord_dict('pdbqt', undocked_pdbqt_mol)\n",
    "\n",
    "with open(undocked_pdbqt_mol) as f:\n",
    "    for line in iter(lambda: f.readline().rstrip(), 'ENDROOT'):\n",
    "        with open(\"TempFile.pdbqt\", \"a\") as output:\n",
    "            output.writelines(line)\n",
    "            output.writelines('\\n')\n",
    "        print(line)\n",
    "        \n",
    "with open(\"TempFile.pdbqt\", \"a\") as output:\n",
    "            output.writelines('ENDROOT')\n",
    "            output.writelines('\\n')\n",
    "\n",
    "docked_pdbqt = undocked_pdbqt = get_coord_dict('pdbqt', 'TempFile.pdbqt')\n",
    "\n",
    "if len(undocked_pdbqt) == len(docked_pdbqt):# == len(original_mol2):\n",
    "   original_coord = {}\n",
    "   for key in docked_pdbqt:\n",
    "      coord_update = [round(x, 3) for x in docked_pdbqt[key]]\n",
    "      coord_update = tuple(coord_update)\n",
    "      original_coord.update({key: coord_update})\n",
    "\n",
    "   coord_map = {}\n",
    "   for idx, coord in original_coord.items():\n",
    "      #potential bottleneck for large molecules\n",
    "      for ind, coordinates in undocked_pdbqt.items():\n",
    "         n=0\n",
    "         if coord[0] == coordinates[0]:\n",
    "            n=n+1\n",
    "            if coord[1] == coordinates[1]:\n",
    "               n=n+1\n",
    "               if coord[2] == coordinates[2]:\n",
    "                  n=n+1\n",
    "            else:\n",
    "               if coord[2] == coordinates[2]:\n",
    "                  n=n+1       \n",
    "         else: \n",
    "            if coord[1] == coordinates[1]:\n",
    "               n=n+1\n",
    "               if coord[2] == coordinates[2]:\n",
    "                  n=n+1\n",
    "            else: \n",
    "               if coord[2] == coordinates[2]:\n",
    "                  n=n+1\n",
    "         if n == 3:\n",
    "           coord_map.update({idx:ind})\n",
    "         elif n == 2:\n",
    "            if idx in coord_map:\n",
    "              pass\n",
    "            else:\n",
    "              coord_map.update({idx:ind})\n",
    "         elif n == 1:\n",
    "            if idx in coord_map:\n",
    "              pass\n",
    "            else:\n",
    "              coord_map.update({idx:ind})\n",
    "         else:\n",
    "            pass\n",
    "        \n",
    "   if len(coord_map) == len(docked_pdbqt):\n",
    "      coord_conform = {}\n",
    "      for index1, index2 in coord_map.items():\n",
    "         coord_conform.update({index1:docked_pdbqt.get(index2)})\n",
    "            \n",
    "      #mol2 =next(pybel.readfile('mol2', original_mol2_mol))\n",
    "      #mol2.OBMol.DeleteHydrogens()\n",
    "      #mol2 =next(pybel.readfile('pdbqt', docked_pdbqt_mol))\n",
    "    \n",
    "      mol2 =next(pybel.readfile('pdbqt', 'TempFile.pdbqt'))\n",
    "      mol2.OBMol.DeleteHydrogens()\n",
    "        \n",
    "    \n",
    "      for atom in mol2:\n",
    "         atom.OBAtom.SetVector(coord_conform.get(atom.idx)[0], coord_conform.get(atom.idx)[1], coord_conform.get(atom.idx)[2])\n",
    "      mol2.write('mol2', output_mol2, overwrite=True)\n",
    "      print('Successfully wrote the file')\n",
    "   else:\n",
    "      print ('Lost coordinates in mapping')\n",
    "        \n",
    "else: \n",
    "   print ('Not equal number of atoms in molecules')\n",
    "\n",
    "print('The path to output file is: \\n')\n",
    "print(output_mol2)\n",
    "\n",
    "if os.path.exists(\"TempFile.pdbqt\"):\n",
    "  os.remove(\"TempFile.pdbqt\")\n"
   ]
  },
  {
   "cell_type": "code",
   "execution_count": null,
   "id": "b7a519fd",
   "metadata": {},
   "outputs": [],
   "source": []
  },
  {
   "cell_type": "code",
   "execution_count": null,
   "id": "c018e1fd",
   "metadata": {},
   "outputs": [],
   "source": []
  }
 ],
 "metadata": {
  "kernelspec": {
   "display_name": "Python 3 (ipykernel)",
   "language": "python",
   "name": "python3"
  },
  "language_info": {
   "codemirror_mode": {
    "name": "ipython",
    "version": 3
   },
   "file_extension": ".py",
   "mimetype": "text/x-python",
   "name": "python",
   "nbconvert_exporter": "python",
   "pygments_lexer": "ipython3",
   "version": "3.9.7"
  }
 },
 "nbformat": 4,
 "nbformat_minor": 5
}
