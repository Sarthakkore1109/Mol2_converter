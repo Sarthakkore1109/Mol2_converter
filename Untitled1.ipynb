{
 "cells": [
  {
   "cell_type": "code",
   "execution_count": 2,
   "id": "644af6ce",
   "metadata": {},
   "outputs": [],
   "source": [
    "import argparse\n",
    "import sys\n",
    "from cinfony import pybel\n",
    "\n"
   ]
  },
  {
   "cell_type": "code",
   "execution_count": 3,
   "id": "31d49adb",
   "metadata": {},
   "outputs": [],
   "source": [
    "def usage():\n",
    "   print( 'This script get coordinates from docked ligand pdbqt file and after renumbering pick it to original mol2 file. This get mol2 file with connectivity and properly added hydrogens')\n",
    "   print ('Usage: convert_to_mol2')\n",
    "   print ('-i origanal mol2 file' )\n",
    "   print ('-p undocked pdbqt file')\n",
    "   print ('-r docked pdbqt file')\n",
    "   print ('-o output mol2 file')\n",
    "   print ('-h Print this help')"
   ]
  },
  {
   "cell_type": "code",
   "execution_count": 4,
   "id": "50ab4b72",
   "metadata": {},
   "outputs": [],
   "source": [
    "def get_coord_dict(format, inputmol):\n",
    "   molH = next(pybel.readfile(format, inputmol))\n",
    "   molH.OBMol.DeleteHydrogens()\n",
    "   return {atom.idx: atom.coords for atom in molH}"
   ]
  },
  {
   "cell_type": "code",
   "execution_count": 5,
   "id": "103b364d",
   "metadata": {},
   "outputs": [
    {
     "name": "stdout",
     "output_type": "stream",
     "text": [
      "Successfully wrote the file\n",
      "C:/Users/ACER/PycharmProjects/pdbqt-to-mol2/protein.pdbqt\n"
     ]
    }
   ],
   "source": [
    "undocked_pdbqt_mol = \"C:/Users/ACER/PycharmProjects/pdbqt-to-mol2/protein.pdbqt\"\n",
    "docked_pdbqt_mol = \"C:/Users/ACER/PycharmProjects/pdbqt-to-mol2/protein.pdbqt\"\n",
    "original_mol2_mol = \"C:/Users/ACER/PycharmProjects/pdbqt-to-mol2/protein.mol2\"\n",
    "output_mol2 = \"C:/Users/ACER/PycharmProjects/pdbqt-to-mol2/output.mol2\"\n",
    "\n",
    "undocked_pdbqt = get_coord_dict('pdbqt', undocked_pdbqt_mol)\n",
    "docked_pdbqt = get_coord_dict('pdbqt', docked_pdbqt_mol)\n",
    "original_mol2 = get_coord_dict('mol2', original_mol2_mol)\n",
    "\n",
    "\n",
    "if len(undocked_pdbqt) == len(docked_pdbqt) == len(original_mol2):\n",
    "   original_coord = {}\n",
    "   for key in original_mol2:\n",
    "      coord_update = [round(x, 3) for x in original_mol2[key]]\n",
    "      coord_update = tuple(coord_update)\n",
    "      original_coord.update({key: coord_update})\n",
    "\n",
    "   coord_map = {}\n",
    "   for idx, coord in original_coord.items():\n",
    "      #potential bottleneck for large molecules\n",
    "      for ind, coordinates in undocked_pdbqt.items():\n",
    "         n=0\n",
    "         if coord[0] == coordinates[0]:\n",
    "            n=n+1\n",
    "            if coord[1] == coordinates[1]:\n",
    "               n=n+1\n",
    "               if coord[2] == coordinates[2]:\n",
    "                  n=n+1\n",
    "            else:\n",
    "               if coord[2] == coordinates[2]:\n",
    "                  n=n+1       \n",
    "         else: \n",
    "            if coord[1] == coordinates[1]:\n",
    "               n=n+1\n",
    "               if coord[2] == coordinates[2]:\n",
    "                  n=n+1\n",
    "            else: \n",
    "               if coord[2] == coordinates[2]:\n",
    "                  n=n+1\n",
    "         if n == 3:\n",
    "           coord_map.update({idx:ind})\n",
    "         elif n == 2:\n",
    "            if idx in coord_map:\n",
    "              pass\n",
    "            else:\n",
    "              coord_map.update({idx:ind})\n",
    "         elif n == 1:\n",
    "            if idx in coord_map:\n",
    "              pass\n",
    "            else:\n",
    "              coord_map.update({idx:ind})\n",
    "         else:\n",
    "            pass\n",
    "        \n",
    "   if len(coord_map) == len(original_mol2):\n",
    "      coord_conform = {}\n",
    "      for index1, index2 in coord_map.items():\n",
    "         coord_conform.update({index1:docked_pdbqt.get(index2)})\n",
    "      mol2 =next(pybel.readfile('mol2', original_mol2_mol))\n",
    "      mol2.OBMol.DeleteHydrogens()\n",
    "      for atom in mol2:\n",
    "         atom.OBAtom.SetVector(coord_conform.get(atom.idx)[0], coord_conform.get(atom.idx)[1], coord_conform.get(atom.idx)[2])\n",
    "      mol2.write('mol2', output_mol2, overwrite=True)\n",
    "      print('Successfully wrote the file')\n",
    "   else:\n",
    "      print ('Lost coordinates in mapping')\n",
    "        \n",
    "else: \n",
    "   print ('Not equal number of atoms in molecules')\n",
    "print (docked_pdbqt_mol)"
   ]
  },
  {
   "cell_type": "code",
   "execution_count": null,
   "id": "b7a519fd",
   "metadata": {},
   "outputs": [],
   "source": []
  },
  {
   "cell_type": "code",
   "execution_count": null,
   "id": "c018e1fd",
   "metadata": {},
   "outputs": [],
   "source": []
  }
 ],
 "metadata": {
  "kernelspec": {
   "display_name": "Python 3 (ipykernel)",
   "language": "python",
   "name": "python3"
  },
  "language_info": {
   "codemirror_mode": {
    "name": "ipython",
    "version": 3
   },
   "file_extension": ".py",
   "mimetype": "text/x-python",
   "name": "python",
   "nbconvert_exporter": "python",
   "pygments_lexer": "ipython3",
   "version": "3.9.7"
  }
 },
 "nbformat": 4,
 "nbformat_minor": 5
}
